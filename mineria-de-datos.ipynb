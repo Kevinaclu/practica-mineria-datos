{
 "cells": [
  {
   "cell_type": "code",
   "execution_count": 202,
   "metadata": {},
   "outputs": [
    {
     "name": "stdout",
     "output_type": "stream",
     "text": [
      "     0   1   2   3   4   5   6   7   8   9   10  11  12   13     14     15  \\\n",
      "0    30   2   1   2   2   2   2   1   2   2   2   2   2  1.0   85.0   18.0   \n",
      "1    50   1   1   2   1   2   2   1   2   2   2   2   2  0.9  135.0   42.0   \n",
      "2    78   1   2   2   1   2   2   2   2   2   2   2   2  0.7   96.0   32.0   \n",
      "3    31   1   2   1   2   2   2   2   2   2   2   2   2  0.7   46.0   52.0   \n",
      "4    34   1   2   2   2   2   2   2   2   2   2   2   2  1.0   86.5  200.0   \n",
      "..   ..  ..  ..  ..  ..  ..  ..  ..  ..  ..  ..  ..  ..  ...    ...    ...   \n",
      "150  46   1   2   2   1   1   1   2   2   2   1   1   1  7.6  104.5  242.0   \n",
      "151  44   1   2   2   1   2   2   2   1   2   2   2   2  0.9  126.0  142.0   \n",
      "152  61   1   1   2   1   1   2   1   1   2   1   2   2  0.8   75.0   20.0   \n",
      "153  53   2   1   2   1   2   2   2   2   1   1   2   1  1.5   81.0   19.0   \n",
      "154  43   1   2   2   1   2   2   2   2   1   1   1   2  1.2  100.0   19.0   \n",
      "\n",
      "      16    17  18  19  \n",
      "0    4.0   2.0   1   2  \n",
      "1    3.5  30.0   1   2  \n",
      "2    4.0   1.0   1   2  \n",
      "3    4.0  80.0   1   2  \n",
      "4    4.0   2.0   1   2  \n",
      "..   ...   ...  ..  ..  \n",
      "150  3.3  50.0   2   1  \n",
      "151  4.3  45.0   2   2  \n",
      "152  4.1  45.0   2   2  \n",
      "153  4.1  48.0   2   2  \n",
      "154  3.1  42.0   2   1  \n",
      "\n",
      "[155 rows x 20 columns]\n"
     ]
    }
   ],
   "source": [
    "import pandas as pd\n",
    "\n",
    "df = pd.read_csv('hepatitis.csv', header=None, sep=',')\n",
    "print(df)\n",
    "X = df.iloc[:,:19]\n",
    "y = df.iloc[:,19]"
   ]
  },
  {
   "cell_type": "code",
   "execution_count": 203,
   "metadata": {},
   "outputs": [
    {
     "data": {
      "text/plain": [
       "KNeighborsClassifier(algorithm='auto', leaf_size=30, metric='minkowski',\n",
       "                     metric_params=None, n_jobs=None, n_neighbors=5, p=2,\n",
       "                     weights='uniform')"
      ]
     },
     "execution_count": 203,
     "metadata": {},
     "output_type": "execute_result"
    }
   ],
   "source": [
    "from sklearn.neighbors import KNeighborsClassifier\n",
    "neigh = KNeighborsClassifier(n_neighbors=5)\n",
    "neigh.fit(X,y)"
   ]
  },
  {
   "cell_type": "code",
   "execution_count": 213,
   "metadata": {},
   "outputs": [
    {
     "data": {
      "text/plain": [
       "GaussianNB(priors=None, var_smoothing=1e-09)"
      ]
     },
     "execution_count": 213,
     "metadata": {},
     "output_type": "execute_result"
    }
   ],
   "source": [
    "from sklearn.naive_bayes import GaussianNB\n",
    "nb = GaussianNB()\n",
    "nb.fit(X, y)"
   ]
  },
  {
   "cell_type": "code",
   "execution_count": 214,
   "metadata": {},
   "outputs": [
    {
     "data": {
      "text/plain": [
       "DecisionTreeClassifier(ccp_alpha=0.0, class_weight=None, criterion='gini',\n",
       "                       max_depth=None, max_features=None, max_leaf_nodes=None,\n",
       "                       min_impurity_decrease=0.0, min_impurity_split=None,\n",
       "                       min_samples_leaf=1, min_samples_split=2,\n",
       "                       min_weight_fraction_leaf=0.0, presort='deprecated',\n",
       "                       random_state=0, splitter='best')"
      ]
     },
     "execution_count": 214,
     "metadata": {},
     "output_type": "execute_result"
    }
   ],
   "source": [
    "from sklearn.tree import DecisionTreeClassifier\n",
    "tree = DecisionTreeClassifier(random_state=0)\n",
    "tree.fit(X,y)"
   ]
  },
  {
   "cell_type": "code",
   "execution_count": 215,
   "metadata": {},
   "outputs": [],
   "source": [
    "from sklearn.model_selection import cross_val_score\n",
    "neighScores = cross_val_score(neigh, X, y, cv=3)\n",
    "nbScores = cross_val_score(nb, X, y, cv=3)\n",
    "treeScores = cross_val_score(tree, X, y, cv=3)"
   ]
  },
  {
   "cell_type": "code",
   "execution_count": 216,
   "metadata": {},
   "outputs": [
    {
     "name": "stdout",
     "output_type": "stream",
     "text": [
      "[0.69230769 0.78846154 0.60784314]\n",
      "[0.84615385 0.82692308 0.49019608]\n",
      "[0.76923077 0.80769231 0.54901961]\n"
     ]
    },
    {
     "data": {
      "image/png": "[encoded data removed]",
      "text/plain": [
       "<Figure size 432x288 with 1 Axes>"
      ]
     },
     "metadata": {
      "needs_background": "light"
     },
     "output_type": "display_data"
    }
   ],
   "source": [
    "print(neighScores)\n",
    "print(nbScores)\n",
    "print(treeScores)\n",
    "\n",
    "import matplotlib.pyplot as plt\n",
    "kNeighGraph = neighScores\n",
    "nbGraph = nbScores\n",
    "treeGraph = treeScores\n",
    "activity = [\"1\", \"2\", \"3\"]\n",
    "\n",
    "fig, ax = plt.subplots()\n",
    "ax.scatter(activity, nbGraph, label=\"Naive Bayes\", marker=\"o\")\n",
    "ax.scatter(activity, treeGraph, label=\"Decision Tree\", marker=\"P\")\n",
    "ax.scatter(activity, kNeighGraph, label=\"K Neighbors\", marker=\"X\")\n",
    "ax.legend()\n",
    "\n",
    "plt.show()"
   ]
  },
  {
   "cell_type": "code",
   "execution_count": 217,
   "metadata": {},
   "outputs": [
    {
     "name": "stdout",
     "output_type": "stream",
     "text": [
      "K Neighbors -> 0.6962041226747109\n",
      "Naive Bayes -> 0.7210910005027652\n",
      "Decision tree -> 0.7086475615887381\n"
     ]
    }
   ],
   "source": [
    "#El mejor algoritmo es el de Naive Bayes porque en todas las iteraciones se comporto \n",
    "#de manera mas constante y con buena puntuacion\n",
    "from statistics import mean\n",
    "neighAccuracy = mean(neighScores)\n",
    "nbAccuracy = mean(nbScores)\n",
    "treeAccuracy = mean(treeScores)\n",
    "print('K Neighbors ->',neighAccuracy)\n",
    "print('Naive Bayes ->', nbAccuracy)\n",
    "print('Decision tree ->',treeAccuracy)"
   ]
  },
  {
   "cell_type": "code",
   "execution_count": 218,
   "metadata": {},
   "outputs": [],
   "source": [
    "from sklearn.metrics import confusion_matrix, ConfusionMatrixDisplay\n",
    "from sklearn.model_selection import train_test_split\n",
    "\n",
    "X_train, X_test, y_train, y_test = train_test_split(X, y, test_size=0.333, random_state=0)\n",
    "\n",
    "clf = GaussianNB()\n",
    "clf.fit(X_train, y_train)\n",
    "predictions = clf.predict(X_test)"
   ]
  },
  {
   "cell_type": "code",
   "execution_count": 219,
   "metadata": {},
   "outputs": [
    {
     "data": {
      "text/plain": [
       "<sklearn.metrics._plot.confusion_matrix.ConfusionMatrixDisplay at 0x1122b4647c8>"
      ]
     },
     "execution_count": 219,
     "metadata": {},
     "output_type": "execute_result"
    },
    {
     "data": {
      "image/png": "[encoded data removed]",
      "text/plain": [
       "<Figure size 432x288 with 2 Axes>"
      ]
     },
     "metadata": {
      "needs_background": "light"
     },
     "output_type": "display_data"
    }
   ],
   "source": [
    "cm = confusion_matrix(y_test, predictions, labels=[1, 2])\n",
    "disp = ConfusionMatrixDisplay(confusion_matrix=cm, display_labels=[\"DIE\",\"LIVE\"])\n",
    "disp.plot()"
   ]
  },
  {
   "cell_type": "code",
   "execution_count": 220,
   "metadata": {},
   "outputs": [],
   "source": [
    "from sklearn.metrics import precision_score, f1_score, recall_score, accuracy_score\n",
    "precision = precision_score(y_test, predictions)\n",
    "accuracy = accuracy_score(y_test, predictions)\n",
    "recall = recall_score(y_test, predictions)\n",
    "f1 = f1_score(y_test, predictions)"
   ]
  },
  {
   "cell_type": "code",
   "execution_count": 221,
   "metadata": {},
   "outputs": [
    {
     "name": "stdout",
     "output_type": "stream",
     "text": [
      "Accuracy -> 0.7307692307692307\n",
      "Precision -> 0.45454545454545453\n",
      "Recall -> 0.8333333333333334\n",
      "F1 Score -> 0.5882352941176471\n"
     ]
    }
   ],
   "source": [
    "print('Accuracy ->', accuracy)\n",
    "print('Precision ->', precision)\n",
    "print('Recall ->', recall)\n",
    "print('F1 Score ->', f1)"
   ]
  },
  {
   "cell_type": "code",
   "execution_count": null,
   "metadata": {},
   "outputs": [],
   "source": []
  }
 ],
 "metadata": {
  "kernelspec": {
   "display_name": "Python 3",
   "language": "python",
   "name": "python3"
  },
  "language_info": {
   "codemirror_mode": {
    "name": "ipython",
    "version": 3
   },
   "file_extension": ".py",
   "mimetype": "text/x-python",
   "name": "python",
   "nbconvert_exporter": "python",
   "pygments_lexer": "ipython3",
   "version": "3.7.6"
  }
 },
 "nbformat": 4,
 "nbformat_minor": 4
}
